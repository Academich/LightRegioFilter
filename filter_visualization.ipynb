{
 "cells": [
  {
   "cell_type": "code",
   "execution_count": null,
   "id": "1ea2c473-b1bd-44ac-a25d-f430c727d727",
   "metadata": {},
   "outputs": [],
   "source": [
    "import pandas as pd"
   ]
  },
  {
   "cell_type": "code",
   "execution_count": null,
   "id": "b0d1448c-3848-4b00-8aea-e62c21b8f3d2",
   "metadata": {},
   "outputs": [],
   "source": [
    "from rdkit import Chem"
   ]
  },
  {
   "cell_type": "code",
   "execution_count": null,
   "id": "1246b60f-d761-40f4-9387-887e7a6e9268",
   "metadata": {},
   "outputs": [],
   "source": [
    "from tqdm import tqdm"
   ]
  },
  {
   "cell_type": "code",
   "execution_count": null,
   "id": "db782363-0960-4fc3-a75b-2db092db7397",
   "metadata": {},
   "outputs": [],
   "source": [
    "from IPython.display import display, SVG"
   ]
  },
  {
   "cell_type": "code",
   "execution_count": null,
   "id": "6391d12e-6d12-444c-b797-c6c481013098",
   "metadata": {},
   "outputs": [],
   "source": [
    "from utils import draw_reaction_smarts"
   ]
  },
  {
   "cell_type": "code",
   "execution_count": null,
   "id": "0ebede74-fdc6-4262-b598-18ec9de9208f",
   "metadata": {},
   "outputs": [],
   "source": [
    "from regioselectivity_check import regioselectivity_check"
   ]
  },
  {
   "cell_type": "code",
   "execution_count": null,
   "id": "ab75993d-d74c-42a0-aea5-6109a4d3487f",
   "metadata": {},
   "outputs": [],
   "source": [
    "from site_prediction import ReactionSitePredictor"
   ]
  },
  {
   "cell_type": "code",
   "execution_count": null,
   "id": "1472562b-03c4-4730-960b-892eb68ce39b",
   "metadata": {},
   "outputs": [],
   "source": [
    "tqdm.pandas()"
   ]
  },
  {
   "cell_type": "code",
   "execution_count": null,
   "id": "87c4c2c7-9d70-4cdc-9838-d8e5bdf49cdd",
   "metadata": {},
   "outputs": [],
   "source": [
    "data = pd.read_csv(\"data/rxns_with_templates_hdfs_and_jsons.csv\")"
   ]
  },
  {
   "cell_type": "code",
   "execution_count": null,
   "id": "c768df73-c3a8-4229-bb16-f1ce4a1ab8a5",
   "metadata": {},
   "outputs": [],
   "source": [
    "site_pred = ReactionSitePredictor(\"models/LGBM_measured_allData_final_model.txt\")"
   ]
  },
  {
   "cell_type": "code",
   "execution_count": null,
   "id": "804b4f62-70bd-47b6-abf5-fca12ce80c3f",
   "metadata": {},
   "outputs": [],
   "source": [
    "data = data.drop_duplicates(subset=['rxn'], keep='first')"
   ]
  },
  {
   "cell_type": "code",
   "execution_count": null,
   "id": "569ce6e8-23c2-446d-9f1f-b1890b2d7fe8",
   "metadata": {},
   "outputs": [],
   "source": [
    "data"
   ]
  },
  {
   "cell_type": "code",
   "execution_count": null,
   "id": "f583400a-956b-4c90-a464-ad9b59f67e1d",
   "metadata": {},
   "outputs": [],
   "source": [
    "data[\"template\"].nunique()"
   ]
  },
  {
   "cell_type": "code",
   "execution_count": null,
   "id": "5e237e06-b39c-494d-b7bb-80a448c42fc2",
   "metadata": {},
   "outputs": [],
   "source": [
    "ix = iter(range(len(data)))"
   ]
  },
  {
   "cell_type": "code",
   "execution_count": null,
   "id": "c74693da-be4e-4262-b875-60695716dd25",
   "metadata": {},
   "outputs": [],
   "source": [
    "i = next(ix)\n",
    "rxn = data[\"rxn\"].iloc[i]\n",
    "templ = data[\"template\"].iloc[i]\n",
    "print(templ)\n",
    "print(rxn)\n",
    "display(draw_reaction_smarts(templ, use_smiles=False))\n",
    "display(draw_reaction_smarts(rxn, use_smiles=True))\n",
    "regioselectivity_check(rxn, templ, site_pred)"
   ]
  },
  {
   "cell_type": "code",
   "execution_count": null,
   "id": "a2355d4a-4060-49b7-9f1a-a4b5f3690b53",
   "metadata": {},
   "outputs": [],
   "source": [
    "subset = data.iloc[30000:]"
   ]
  },
  {
   "cell_type": "code",
   "execution_count": null,
   "id": "cd96cfa7-3193-4ba6-aaf1-cab931bd943a",
   "metadata": {},
   "outputs": [],
   "source": [
    "subset"
   ]
  },
  {
   "cell_type": "code",
   "execution_count": null,
   "id": "a43a7186-4301-4b21-b505-8c78522bf71f",
   "metadata": {},
   "outputs": [],
   "source": [
    "def f(rxn, tpl, site_pred=site_pred):\n",
    "    try:\n",
    "        return regioselectivity_check(rxn, tpl, site_pred)\n",
    "    except Exception as e:\n",
    "        return \"\""
   ]
  },
  {
   "cell_type": "code",
   "execution_count": null,
   "id": "aeb00940-d503-466f-bce1-b3a183ef1497",
   "metadata": {
    "tags": []
   },
   "outputs": [],
   "source": [
    "data[\"decision\"] = data.progress_apply(lambda x: f(x[0], x[1], site_pred), axis=1)"
   ]
  },
  {
   "cell_type": "code",
   "execution_count": null,
   "id": "c003bd50-e90f-45b5-8cdb-358819e5b3ab",
   "metadata": {},
   "outputs": [],
   "source": [
    "data"
   ]
  },
  {
   "cell_type": "code",
   "execution_count": null,
   "id": "076c9889-4438-419d-a204-64d2e1eeb8f6",
   "metadata": {},
   "outputs": [],
   "source": [
    "# def __unsubstituted_part_of_an_aromatic_ring(atom, mol):\n",
    "#     for a in mol.GetAtoms():\n",
    "#         if a.GetAtomMapNum() == atom.GetAtomMapNum():\n",
    "#             return tuple([(i.GetIsAromatic() or \"&a\" in i.GetSmarts()) for i in a.GetNeighbors()]) == (True, True)\n",
    "\n",
    "\n",
    "# def _template_relevant(template_left: str, template_right: str):\n",
    "#     if \"Br\" in template_right and \"Br\" in template_left:\n",
    "#         # Check if the bromine atom is connected to an aromatic carbon atom\n",
    "#         left = Chem.MolFromSmarts(template_left)\n",
    "#         right = Chem.MolFromSmarts(template_right)\n",
    "#         for a in right.GetAtoms():\n",
    "#             if a.GetSymbol() == \"Br\":\n",
    "#                 hal_neighbor = a.GetNeighbors()[0]\n",
    "#                 return hal_neighbor.GetAtomicNum() == 6 and hal_neighbor.GetIsAromatic() and __unsubstituted_part_of_an_aromatic_ring(hal_neighbor, left)\n",
    "#     return False"
   ]
  },
  {
   "cell_type": "code",
   "execution_count": null,
   "id": "6235a98b-e31e-4a50-9de2-1a16a4b27c40",
   "metadata": {},
   "outputs": [],
   "source": [
    "data[\"decision\"].value_counts(normalize=True)"
   ]
  },
  {
   "cell_type": "code",
   "execution_count": null,
   "id": "cb657730-e92f-4fe9-bb50-ff9e81e8beab",
   "metadata": {},
   "outputs": [],
   "source": [
    "data[[\"rxn\", \"template\", \"decision\"]].to_csv(\"data/rxns_with_templates_hdfs_jsons_decisions.csv\", index=False, header=True)"
   ]
  },
  {
   "cell_type": "code",
   "execution_count": null,
   "id": "0658bb84-3061-4471-ac43-cc23119b8032",
   "metadata": {},
   "outputs": [],
   "source": [
    "data[data[\"decision\"] == \"undecided\"]"
   ]
  },
  {
   "cell_type": "code",
   "execution_count": null,
   "id": "5f5fc825-d114-40c4-b4e7-724334280e7f",
   "metadata": {},
   "outputs": [],
   "source": [
    "data = pd.concat((data, pd.get_dummies(data[\"decision\"])), axis=1)"
   ]
  },
  {
   "cell_type": "code",
   "execution_count": null,
   "id": "679df2f9-6f31-43a7-86a9-ff0d08f0e05b",
   "metadata": {},
   "outputs": [],
   "source": [
    "data"
   ]
  },
  {
   "cell_type": "code",
   "execution_count": null,
   "id": "19d2e857-a882-44b8-a37f-7484f127b424",
   "metadata": {},
   "outputs": [],
   "source": [
    "template_correctness = data.groupby(by=\"template\")[[\"correct\", \"undecided\", \"wrong\"]].mean().reset_index()"
   ]
  },
  {
   "cell_type": "code",
   "execution_count": null,
   "id": "b11a5d93-7085-4033-b43c-2d4c53d9febf",
   "metadata": {},
   "outputs": [],
   "source": [
    "template_correctness.head(2)"
   ]
  },
  {
   "cell_type": "code",
   "execution_count": null,
   "id": "a013ad3a-75b7-4bd2-ba1c-fefe54049a82",
   "metadata": {},
   "outputs": [],
   "source": [
    "template_correctness[\"correct\"].hist(bins=100)"
   ]
  },
  {
   "cell_type": "code",
   "execution_count": null,
   "id": "59d8d38e-bd55-4ab1-8ad4-ab12c180acea",
   "metadata": {},
   "outputs": [],
   "source": [
    "template_correctness[\"undecided\"].hist(bins=100)"
   ]
  },
  {
   "cell_type": "code",
   "execution_count": null,
   "id": "d0e1e74d-a573-4449-8c85-a7c940e6cb98",
   "metadata": {},
   "outputs": [],
   "source": [
    "template_correctness[\"wrong\"].hist(bins=100)"
   ]
  },
  {
   "cell_type": "code",
   "execution_count": null,
   "id": "139a9a96-59de-4bb9-8f1e-f6a5d42de535",
   "metadata": {},
   "outputs": [],
   "source": [
    "ix = iter(template_correctness[template_correctness[\"wrong\"] == 1].index)\n",
    "# ix = iter(template_correctness[template_correctness[\"wrong\"] == 1].index)"
   ]
  },
  {
   "cell_type": "code",
   "execution_count": null,
   "id": "2c0b9073-ae45-49bc-9ac3-84ef56e16760",
   "metadata": {},
   "outputs": [],
   "source": [
    "i = next(ix)\n",
    "t = template_correctness.loc[i][\"template\"]\n",
    "print(t)\n",
    "print(data[data.template == t][\"rxn\"].iloc[0])\n",
    "# print(_template_relevant(*t.split(\">>\")))\n",
    "display(draw_reaction_smarts(t, use_smiles=False))\n",
    "draw_reaction_smarts(data[data.template == t][\"rxn\"].iloc[0])"
   ]
  },
  {
   "cell_type": "code",
   "execution_count": null,
   "id": "00c8d44d-5513-40d7-bc1f-cc21bb1638af",
   "metadata": {
    "tags": []
   },
   "outputs": [],
   "source": [
    "m = Chem.MolFromSmarts(\"[#7;a:1]:[c:2]:[c:3]:[cH;D2;+0:4]:[c;H0;D3;+0:6]\")\n",
    "display(m)\n",
    "m.UpdatePropertyCache()\n",
    "Chem.GetSymmSSSR(m)\n",
    "print(Chem.MolToSmarts(m))\n",
    "# m = Chem.MolFromSmarts(Chem.MolToSmarts(Chem.MolFromSmarts(\"[#7;a:1]:[c:2]:[c:3]:[cH;D2;+0:4]:[c;H0;D3;+0:6]\")))\n",
    "for i in m.GetAtoms():\n",
    "    print(i.GetSmarts())\n",
    "    print(dir(i))\n",
    "    print(i.GetSymbol(), i.GetIsAromatic(), i.GetPropsAsDict())"
   ]
  },
  {
   "cell_type": "code",
   "execution_count": null,
   "id": "41f421fe-e8d6-469a-be2e-150ae98e4d7e",
   "metadata": {},
   "outputs": [],
   "source": []
  },
  {
   "cell_type": "code",
   "execution_count": null,
   "id": "6fbc9a58-8933-4caf-9cfb-c04d89930278",
   "metadata": {},
   "outputs": [],
   "source": [
    "data[data.template == t][\"rxn\"]"
   ]
  },
  {
   "cell_type": "code",
   "execution_count": null,
   "id": "3cedcd03-656a-40ec-b6ad-67e3631ef0dd",
   "metadata": {},
   "outputs": [],
   "source": [
    "m = \"[#7;a:2]:[c:3]:[c;H0;D3;+0:4](:[#7;a:5])-[Br;H0;D1;+0:1]\"\n",
    "mol = Chem.MolFromSmarts(m)\n",
    "for a in mol.GetAtoms():\n",
    "    if a.GetSymbol() == \"Br\":\n",
    "        print(a.GetNeighbors()[0].GetIsAromatic())"
   ]
  },
  {
   "cell_type": "code",
   "execution_count": null,
   "id": "e4ad6654-7f98-4735-877f-27453266379c",
   "metadata": {},
   "outputs": [],
   "source": [
    "display(SVG('test_mol.svg'))"
   ]
  }
 ],
 "metadata": {
  "kernelspec": {
   "display_name": "regiofilter_python",
   "language": "python",
   "name": "regiofilter_python"
  },
  "language_info": {
   "codemirror_mode": {
    "name": "ipython",
    "version": 3
   },
   "file_extension": ".py",
   "mimetype": "text/x-python",
   "name": "python",
   "nbconvert_exporter": "python",
   "pygments_lexer": "ipython3",
   "version": "3.9.1"
  }
 },
 "nbformat": 4,
 "nbformat_minor": 5
}
